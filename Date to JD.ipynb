{
 "cells": [
  {
   "cell_type": "code",
   "execution_count": 22,
   "id": "9de67c19",
   "metadata": {},
   "outputs": [
    {
     "name": "stdout",
     "output_type": "stream",
     "text": [
      "\u001b[34mWelcome to Julian Date Calculator\u001b[0m\n",
      "Please enter a date (YYYY-MM-DD) or type 'exit' to quit: 2024-04-04\n",
      "\u001b[32mJulian Date: 2460404.50\u001b[0m\n"
     ]
    }
   ],
   "source": [
    "from datetime import datetime\n",
    "from colorama import Fore, Style\n",
    "\n",
    "def is_valid_date(date_str):\n",
    "    try:\n",
    "        datetime.strptime(date_str, \"%Y-%m-%d\")\n",
    "        return True\n",
    "    except ValueError:\n",
    "        return False\n",
    "\n",
    "def calculate_julian_date(year, month, day):\n",
    "    if month <= 2:\n",
    "        year -= 1\n",
    "        month += 12\n",
    "    else:\n",
    "        year = year\n",
    "        month = month\n",
    "    \n",
    "    a = year // 100\n",
    "    b = a // 4\n",
    "    c = 2 - a + b\n",
    "    e = int(365.25 * (year + 4716))\n",
    "    f = int(30.6002 * (month + 1))\n",
    "    jd = c + day + e + f - 1524.5\n",
    "    return jd\n",
    "\n",
    "def print_error_message(error_msg):\n",
    "    print(Fore.RED + \"Error:\", error_msg + Style.RESET_ALL)\n",
    "\n",
    "def print_welcome_message():\n",
    "    print(Fore.BLUE + \"Welcome to Julian Date Calculator\" + Style.RESET_ALL)\n",
    "\n",
    "def print_exit_message():\n",
    "    print(Fore.BLUE + \"Exiting program.\" + Style.RESET_ALL)\n",
    "\n",
    "def print_julian_date(year, month, day, julian_date):\n",
    "    print(Fore.GREEN + \"Julian Date: {:.2f}\".format(julian_date) + Style.RESET_ALL)\n",
    "\n",
    "print_welcome_message()\n",
    "while True:\n",
    "    date_str = input(\"Please enter a date (YYYY-MM-DD) or type 'exit' to quit: \")\n",
    "    if date_str.lower() == 'exit':\n",
    "        print_exit_message()\n",
    "        break\n",
    "    elif is_valid_date(date_str):\n",
    "        date_obj = datetime.strptime(date_str, \"%Y-%m-%d\")\n",
    "        year = date_obj.year\n",
    "        month = date_obj.month\n",
    "        day = date_obj.day\n",
    "        julian_date = calculate_julian_date(year, month, day)\n",
    "        print_julian_date(year, month, day, julian_date)\n",
    "        break\n",
    "    else:\n",
    "        print_error_message(\"Invalid date format! (Expected format: YYYYY-MM-DD)\")\n"
   ]
  },
  {
   "cell_type": "code",
   "execution_count": null,
   "id": "f1b63c84",
   "metadata": {},
   "outputs": [],
   "source": []
  }
 ],
 "metadata": {
  "kernelspec": {
   "display_name": "Python 3 (ipykernel)",
   "language": "python",
   "name": "python3"
  },
  "language_info": {
   "codemirror_mode": {
    "name": "ipython",
    "version": 3
   },
   "file_extension": ".py",
   "mimetype": "text/x-python",
   "name": "python",
   "nbconvert_exporter": "python",
   "pygments_lexer": "ipython3",
   "version": "3.11.5"
  }
 },
 "nbformat": 4,
 "nbformat_minor": 5
}
